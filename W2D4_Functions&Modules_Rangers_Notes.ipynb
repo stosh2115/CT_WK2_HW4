{
 "cells": [
  {
   "cell_type": "markdown",
   "metadata": {},
   "source": [
    "# User-Defined Functions & Scoping"
   ]
  },
  {
   "cell_type": "markdown",
   "metadata": {},
   "source": [
    "## Tasks Today:\n",
    "\n",
    "\n",
    "1) Functions <br>\n",
    " &nbsp;&nbsp;&nbsp;&nbsp; a) User-Defined vs. Built-In Functions <br>\n",
    " &nbsp;&nbsp;&nbsp;&nbsp; b) Accepting Parameters <br>\n",
    " &nbsp;&nbsp;&nbsp;&nbsp; c) Default Parameters <br>\n",
    " &nbsp;&nbsp;&nbsp;&nbsp; d) Making an Argument Optional <br>\n",
    " &nbsp;&nbsp;&nbsp;&nbsp; e) Keyword Arguments <br>\n",
    " &nbsp;&nbsp;&nbsp;&nbsp; f) Returning Values <br>\n",
    " &nbsp;&nbsp;&nbsp;&nbsp; g) *args <br>\n",
    " &nbsp;&nbsp;&nbsp;&nbsp; h) Docstring <br>\n",
    " &nbsp;&nbsp;&nbsp;&nbsp; i) Using a User Function in a Loop <br>\n",
    "2) Scope\n",
    "3) Creating more User-Defined functions \n",
    "4) Modules <br>\n",
    " &nbsp;&nbsp;&nbsp;&nbsp; a) Importing Entire Modules <br>\n",
    " &nbsp;&nbsp;&nbsp;&nbsp; b) Importing Methods Only <br>\n",
    " &nbsp;&nbsp;&nbsp;&nbsp; c) Using the 'as' Keyword <br>\n",
    " &nbsp;&nbsp;&nbsp;&nbsp; d) Creating a Module <br>"
   ]
  },
  {
   "cell_type": "markdown",
   "metadata": {},
   "source": [
    "\n",
    "## Functions"
   ]
  },
  {
   "cell_type": "markdown",
   "metadata": {},
   "source": [
    "##### User-Defined vs. Built-In Functions"
   ]
  },
  {
   "cell_type": "code",
   "execution_count": null,
   "metadata": {},
   "outputs": [],
   "source": [
    "# Built-in function \n",
    "# print(\"Hello\")\n",
    "# max()\n",
    "# min()\n",
    "# sum()\n",
    "# len()\n",
    "\n",
    "# User defined function\n",
    "def say_hello():\n",
    "    return \"Hello\"\n",
    "\n",
    "print(say_hello())\n",
    "\n",
    "\n",
    "\n",
    "def say_hello2():\n",
    "    return \"hello again\"\n",
    "\n",
    "print(say_hello2().upper())\n",
    "\n",
    "#when calling a function, you will always need to put parentheses at the end\n",
    "\n",
    "\n",
    "def say_hello3():\n",
    "    hello = say_hello()\n",
    "    return hello\n",
    "    \n",
    "\n",
    "print(say_hello3())\n",
    "\n",
    "\n"
   ]
  },
  {
   "cell_type": "markdown",
   "metadata": {},
   "source": [
    "##### Accepting Parameters"
   ]
  },
  {
   "cell_type": "code",
   "execution_count": null,
   "metadata": {
    "scrolled": true
   },
   "outputs": [],
   "source": [
    "# elements passed into a function\n",
    "# variables to hold the place of items our function will act upon\n",
    "# order matters\n",
    "# a parameter can be of any object type (data type)\n",
    "\n",
    "                    #parameter\n",
    "def print_something(something):\n",
    "    return something\n",
    "                        #argument\n",
    "print(print_something(\"the weather is kinda gross today\"))\n",
    "\n",
    "\n",
    "def make_sentence(noun, adjective, verb):\n",
    "    return f\"The {noun} is very {adjective} and its {verb}\"\n",
    "\n",
    "print(make_sentence(\"gloomy\", \"raining\", \"sky\"))\n",
    "\n",
    "def subtraction(a, b):\n",
    "    return a - b\n",
    "\n",
    "print(subtraction(10,6))"
   ]
  },
  {
   "cell_type": "markdown",
   "metadata": {},
   "source": [
    "##### Default Parameters"
   ]
  },
  {
   "cell_type": "code",
   "execution_count": null,
   "metadata": {},
   "outputs": [],
   "source": [
    "# default parameters must always come after non-default parameters at all times forever and ever...or else\n",
    "def agent_name(first_name, last_name = \"Bond\"):\n",
    "    return f\"The name is {last_name}.... {first_name} {last_name}\"\n",
    "\n",
    "print(agent_name(\"Jimmy\"))\n",
    "\n",
    "print(agent_name(\"Leroy\", \"Jenkins\"))"
   ]
  },
  {
   "cell_type": "code",
   "execution_count": null,
   "metadata": {},
   "outputs": [],
   "source": [
    "# default parameters must always come after non-default parameters at all times forever and ever...or else\n",
    "def agent_name(first_name = \"James\", last_name = \"Bond\"):\n",
    "    return f\"The name is {last_name}.... {first_name} {last_name}\"\n",
    "\n",
    "print(agent_name(last_name=\"Jenkins\", first_name=\"Leroy\"))\n"
   ]
  },
  {
   "cell_type": "code",
   "execution_count": null,
   "metadata": {},
   "outputs": [],
   "source": [
    "def birthday_month(day, year, month=\"March\"):\n",
    "    return f\"Your birthday is {month} {day} and you were born in {year}\"\n",
    "print(birthday_month(21, 2023))\n",
    "\n",
    "\n",
    "print(birthday_month(1, 2023, \"May\"))"
   ]
  },
  {
   "cell_type": "markdown",
   "metadata": {},
   "source": [
    "##### Making an Argument Optional"
   ]
  },
  {
   "cell_type": "code",
   "execution_count": 9,
   "metadata": {},
   "outputs": [
    {
     "name": "stdout",
     "output_type": "stream",
     "text": [
      "Hello Ryan Rhoades\n"
     ]
    }
   ],
   "source": [
    "def print_full_name(first, last, middle = \"\"):\n",
    "    if middle == '':\n",
    "        return f\"Hello {first} {last}\"\n",
    "    return f\"Hello {first} {middle} {last}.\"\n",
    "\n",
    "\n",
    "print(print_full_name(\"Ryan\", \"Rhoades\"))"
   ]
  },
  {
   "cell_type": "markdown",
   "metadata": {},
   "source": [
    "##### Keyword Arguments"
   ]
  },
  {
   "cell_type": "code",
   "execution_count": null,
   "metadata": {},
   "outputs": [],
   "source": [
    "#keyword arguments must follow positional arugments\n",
    "def print_hero(name, secret_identity, power=\"flying\"):\n",
    "    return f\"{name}'s power is {power} and their secret identity is {secret_identity}\"\n",
    "print(print_hero(power=\"money\", name=\"batman\", secret_identity=\"Bruce Wayne\"))"
   ]
  },
  {
   "cell_type": "code",
   "execution_count": null,
   "metadata": {},
   "outputs": [],
   "source": [
    "yellow = \"yellow\"\n",
    "def print_colors(color1, color2, color3):\n",
    "    return f\"Here are some neat colors: {color1}, {color2}, {color3}\"\n",
    "print(print_colors(yellow, color3=\"red\", color2=\"blue\"))"
   ]
  },
  {
   "cell_type": "markdown",
   "metadata": {},
   "source": [
    "# Creating a start, stop, step function"
   ]
  },
  {
   "cell_type": "code",
   "execution_count": null,
   "metadata": {
    "scrolled": true
   },
   "outputs": [],
   "source": [
    "def my_range(stop, start=0, step =1):\n",
    "    for i in range(start, stop, step):\n",
    "        print(i)\n",
    "    return \"Hey great job, you're beautiful!\"\n",
    "print(my_range(20, 1, 2))"
   ]
  },
  {
   "cell_type": "code",
   "execution_count": null,
   "metadata": {},
   "outputs": [],
   "source": [
    "def square_nums(arr):\n",
    "    square_list = []\n",
    "    for num in arr:        \n",
    "        square_list.append(num**2)\n",
    "    return square_list\n",
    "    \n",
    "\n",
    "print(square_nums([2, 4, 6, 8]))"
   ]
  },
  {
   "cell_type": "markdown",
   "metadata": {},
   "source": [
    "##### Returning Values"
   ]
  },
  {
   "cell_type": "code",
   "execution_count": null,
   "metadata": {},
   "outputs": [],
   "source": [
    "poke_list = [\"Charmander\", \"Squirtle\", \"Cyndaquil\", \"Chikorita\", \"Totodile\"]\n",
    "def find_a_bulbasaur(arr):\n",
    "    for poke in arr:\n",
    "        if poke == \"Bulbasaur\":\n",
    "            return \"Bulba Bulba\"\n",
    "    return \"No Bulbasaur, sad\"\n",
    "\n",
    "find_a_bulbasaur(poke_list)"
   ]
  },
  {
   "cell_type": "code",
   "execution_count": null,
   "metadata": {},
   "outputs": [],
   "source": [
    "def is_bulbasaur(string):\n",
    "    if string == \"Bulba Bulba\":\n",
    "        return \"You caught a Bulbasaur!\"\n",
    "    return \"Oh! the Bulbasaur appeared to be caught....and it ran away\"\n",
    "\n",
    "\n",
    "\n",
    "is_bulbasaur(find_a_bulbasaur(poke_list))\n",
    "\n",
    "# caught = find_a_bulbasaur(poke_list)\n",
    "print(caught)\n",
    "\n"
   ]
  },
  {
   "cell_type": "markdown",
   "metadata": {},
   "source": [
    "##### *args / **kwargs (keyword arguments)"
   ]
  },
  {
   "cell_type": "code",
   "execution_count": 12,
   "metadata": {},
   "outputs": [
    {
     "name": "stdout",
     "output_type": "stream",
     "text": [
      "('Apple', 'Banana', 'Grape', 'Strawberry')\n",
      "Apple\n",
      "Banana\n",
      "Grape\n",
      "Strawberry\n"
     ]
    }
   ],
   "source": [
    "#*args, **kwargs\n",
    "# *args stands for arguments and will allow the function to take in any number of arguments\n",
    "# if other parameters are present, args and kwarfs must go last\n",
    "def print_args(*args):\n",
    "    print(args)\n",
    "    for thing in args:\n",
    "        print(thing)\n",
    "print_args(\"Apple\", \"Banana\", \"Grape\", \"Strawberry\")"
   ]
  },
  {
   "cell_type": "code",
   "execution_count": 15,
   "metadata": {},
   "outputs": [
    {
     "name": "stdout",
     "output_type": "stream",
     "text": [
      "{'Charmander': 'fire', 'Squirtle': 'water', 'Bulbasaur': 'grass'}\n",
      "Charmander is a fire type\n",
      "Squirtle is a water type\n",
      "Bulbasaur is a grass type\n"
     ]
    }
   ],
   "source": [
    "# **kwargs stands for key word arguments and will allow the function to take in any number of keyword arguments\n",
    "def print_kwargs(**kwargs):\n",
    "    print(kwargs)\n",
    "    for poke, type_ in kwargs.items():\n",
    "        print(f\"{poke} is a {type_} type\")\n",
    "    \n",
    "print_kwargs(Charmander = \"fire\", Squirtle = \"water\", Bulbasaur = \"grass\")"
   ]
  },
  {
   "cell_type": "code",
   "execution_count": 11,
   "metadata": {},
   "outputs": [
    {
     "name": "stdout",
     "output_type": "stream",
     "text": [
      "This is my postional argument: 2 3 Ryan\n",
      "These are my arguments: ('Mega Man', 'Cheetor', 'Chewbacca', 'What else is on my desk?', 12, 54)\n",
      "These are my keyword arguments: {'names': ['Chuck', 'Desiree', 'Patrick'], 'language': 'python'}\n"
     ]
    }
   ],
   "source": [
    "# if other parameters are present, args and kwargs must go last\n",
    "\n",
    "def print_args(num1, num2, name, *args, **kwargs):\n",
    "    print(\"This is my postional argument:\", num1, num2, name)\n",
    "    print(\"These are my arguments:\", args)\n",
    "    print(\"These are my keyword arguments:\", kwargs)\n",
    "\n",
    "print_args(2, 3, \"Ryan\", \"Mega Man\", \"Cheetor\", \"Chewbacca\", \"What else is on my desk?\", 12, 54,\n",
    "           names=[\"Chuck\", \"Desiree\", \"Patrick\"], language=\"python\")\n",
    "    \n"
   ]
  },
  {
   "cell_type": "code",
   "execution_count": 10,
   "metadata": {},
   "outputs": [
    {
     "name": "stdout",
     "output_type": "stream",
     "text": [
      "This is my postional argument: 2 3 Ryan\n",
      "These are my arguments: ()\n",
      "These are my keyword arguments: {}\n"
     ]
    }
   ],
   "source": [
    "def print_args(num1, num2, name, *args, **kwargs):\n",
    "    print(\"This is my postional argument:\", num1, num2, name)\n",
    "    print(\"These are my arguments:\", args)\n",
    "    print(\"These are my keyword arguments:\", kwargs)\n",
    "\n",
    "print_args(2, 3, \"Ryan\")"
   ]
  },
  {
   "cell_type": "markdown",
   "metadata": {},
   "source": [
    "##### Docstring"
   ]
  },
  {
   "cell_type": "code",
   "execution_count": 16,
   "metadata": {},
   "outputs": [
    {
     "name": "stdout",
     "output_type": "stream",
     "text": [
      "Chuck\n",
      "Alex\n",
      "Swan\n",
      "Kevin\n",
      "Abdel\n",
      "\n",
      "    Here are instructions for the function:\n",
      "    step1 \n",
      "    step2\n",
      "    step 3\n",
      "Help on function print_names in module __main__:\n",
      "\n",
      "print_names(arr)\n",
      "    print_names(arr)\n",
      "    Function requires a list to be passed as an arugment.\n",
      "    It will print the contents of the list. It is expecting  a list of \n",
      "    names as strings to be passed in.\n",
      "\n"
     ]
    }
   ],
   "source": [
    "# docstrings are a really nice way to leave notes about funciontality in your code\n",
    "# provide instructions\n",
    "def print_names(arr):\n",
    "    \"\"\"\n",
    "    print_names(arr)\n",
    "    Function requires a list to be passed as an arugment.\n",
    "    It will print the contents of the list. It is expecting  a list of \n",
    "    names as strings to be passed in.\n",
    "    \"\"\"\n",
    "               \n",
    "#     loop through names list and print them\n",
    "    for name in arr:\n",
    "        print(name)\n",
    "        \n",
    "    print(\"\"\"\n",
    "    Here are instructions for the function:\n",
    "    step1 \n",
    "    step2\n",
    "    step 3\"\"\")\n",
    "        \n",
    "print_names(['Chuck', \"Alex\", \"Swan\", \"Kevin\", \"Abdel\"])\n",
    "\n",
    "help(print_names)\n",
    "    \n",
    "    "
   ]
  },
  {
   "cell_type": "markdown",
   "metadata": {},
   "source": [
    "##### Using a User Function in a Loop"
   ]
  },
  {
   "cell_type": "code",
   "execution_count": null,
   "metadata": {},
   "outputs": [],
   "source": [
    "store = {}\n",
    "def print_input(answer):\n",
    "    print(f\"I say heyayayayayayaayayayayayaya {answer}\")\n",
    "    \n",
    "while True:\n",
    "    ask = input(\"What's going on?\")\n",
    "    \n",
    "    print_input(ask)\n",
    "    \n",
    "    response = input(\"Are you ready to quit? \")\n",
    "    if response.lower() == \"yes\":\n",
    "            break\n",
    "    \n"
   ]
  },
  {
   "cell_type": "markdown",
   "metadata": {},
   "source": [
    "## Function Exercises <br>\n",
    "### Exercise 1\n",
    "<p>Write a function that loops through a list of first_names and a list of last_names, combines the two and return a list of full_names</p>"
   ]
  },
  {
   "cell_type": "code",
   "execution_count": 17,
   "metadata": {},
   "outputs": [],
   "source": [
    "first_name = ['John', 'Evan', 'Jordan', 'Max']\n",
    "last_name = ['Smith', 'Smith', 'Williams', 'Bell']\n",
    "\n",
    "# Output: ['John Smith', 'Evan Smith', 'Jordan Williams', 'Max Bell']\n"
   ]
  },
  {
   "cell_type": "code",
   "execution_count": 18,
   "metadata": {},
   "outputs": [
    {
     "data": {
      "text/plain": [
       "['John Smith', 'Evan Smith', 'Jordan Williams', 'Max Bell']"
      ]
     },
     "execution_count": 18,
     "metadata": {},
     "output_type": "execute_result"
    }
   ],
   "source": [
    "def name_arr_combiner(arr1,arr2):\n",
    "    ret_arr=[]\n",
    "    if len(arr1) != len(arr2):\n",
    "        print(\"Different amount of first and last names!!!!!\")\n",
    "    else:\n",
    "        for i in range(0,len(arr1)):\n",
    "            ret_arr.append(arr1[i]+\" \"+arr2[i])\n",
    "        return ret_arr\n",
    "name_arr_combiner(first_name, last_name)"
   ]
  },
  {
   "cell_type": "code",
   "execution_count": 21,
   "metadata": {},
   "outputs": [
    {
     "data": {
      "text/plain": [
       "['John Smith', 'Evan Smith', 'Jordan Williams', 'Max Bell']"
      ]
     },
     "execution_count": 21,
     "metadata": {},
     "output_type": "execute_result"
    }
   ],
   "source": [
    "def fullName(first_name, last_name):\n",
    "    full_name = []\n",
    "    for i in range(len(first_name)):\n",
    "        full_name.append(first_name[i] + \" \" + last_name[i])\n",
    "    return full_name\n",
    "\n",
    "fullName(first_name, last_name)\n",
    "        \n",
    "    "
   ]
  },
  {
   "cell_type": "code",
   "execution_count": null,
   "metadata": {},
   "outputs": [],
   "source": [
    "def fullName(firstname,lastname):\n",
    "    return [firstname[i] + \" \"+ lastname[i] for i in range(len(firstname))]\n",
    "\n",
    "print(fullName(first_name,last_name))"
   ]
  },
  {
   "cell_type": "markdown",
   "metadata": {},
   "source": [
    "### Exercise 2\n",
    "Create a function that alters all values in the given list by subtracting 5 and then doubling them."
   ]
  },
  {
   "cell_type": "code",
   "execution_count": null,
   "metadata": {},
   "outputs": [],
   "source": [
    "input_list = [5,10,15,20,3]\n",
    "# output = [0,10,20,30,-4]\n",
    "\n"
   ]
  },
  {
   "cell_type": "code",
   "execution_count": null,
   "metadata": {},
   "outputs": [],
   "source": [
    "def alter_nums(arr):\n",
    "    new_nums = []\n",
    "    for num in input_list:\n",
    "        new_num = (int(num) - 5)*2\n",
    "        new_nums.append(new_num)\n",
    "    return new_nums\n",
    "\n",
    "print(alter_nums(input_list))"
   ]
  },
  {
   "cell_type": "code",
   "execution_count": null,
   "metadata": {},
   "outputs": [],
   "source": [
    "def problem(list1):\n",
    "    return [(i-5)*2 for i in list1]\n",
    "\n",
    "print(problem(input_list))"
   ]
  },
  {
   "cell_type": "code",
   "execution_count": null,
   "metadata": {},
   "outputs": [],
   "source": [
    "def mathThisList(numList):\n",
    "    return [(num-5)*2 for num in numList]\n",
    "\n",
    "print(mathThisList(input_list))"
   ]
  },
  {
   "cell_type": "code",
   "execution_count": null,
   "metadata": {},
   "outputs": [],
   "source": [
    "def math_stuff(arr):\n",
    "    my_new_list = arr[:]\n",
    "    for i in range(len(my_new_list)):\n",
    "        my_new_list[i]= (my_new_list[i] - 5) * 2\n",
    "    return my_new_list\n",
    "math_stuff(input_list)\n",
    "        "
   ]
  },
  {
   "cell_type": "code",
   "execution_count": null,
   "metadata": {},
   "outputs": [],
   "source": [
    "def more_math(arr):\n",
    "    my_list = []\n",
    "    for num in arr:\n",
    "        my_list.append((num-5)*2)\n",
    "    return my_list\n",
    "more_math(input_list)\n",
    "        "
   ]
  },
  {
   "cell_type": "markdown",
   "metadata": {},
   "source": [
    "### Exercise 3\n",
    "Create a function that takes in a list of strings and filters out the strings that DO NOT contain vowels. "
   ]
  },
  {
   "cell_type": "code",
   "execution_count": null,
   "metadata": {},
   "outputs": [],
   "source": [
    "string_list = ['Sheldon','Pnny','Leonard','Hwrd','Rj','Amy','Strt']\n",
    "# output = ['Sheldon','Leonard','Amy']\n",
    "\n"
   ]
  },
  {
   "cell_type": "code",
   "execution_count": null,
   "metadata": {},
   "outputs": [],
   "source": [
    "def vowel(list1):\n",
    "    new_l = []\n",
    "    vowels = ['a', 'e', 'i', 'o', 'u']\n",
    "    for name in list1:\n",
    "        for letter in name:\n",
    "            if letter.lower() in vowels:\n",
    "                new_l.append(name)\n",
    "                break\n",
    "                \n",
    "    return new_l\n",
    "\n",
    "print(vowel(string_list))"
   ]
  },
  {
   "cell_type": "code",
   "execution_count": null,
   "metadata": {},
   "outputs": [],
   "source": []
  },
  {
   "cell_type": "code",
   "execution_count": null,
   "metadata": {},
   "outputs": [],
   "source": [
    "def vowels_only2(arr):\n",
    "    return [x for x in arr if not('a' not in x.lower() and 'e' not in x.lower() and 'i' not in x.lower() and 'o' not in x.lower() and 'u' not in x.lower())]\n",
    "vowels_only2(string_list)"
   ]
  },
  {
   "cell_type": "code",
   "execution_count": null,
   "metadata": {},
   "outputs": [],
   "source": [
    "def name_with_vowels(str_list):\n",
    "    return [name for name in str_list if ('e' or 'a' or 'i' or 'u' or 'o') in name.lower()]\n",
    "\n",
    "print(name_with_vowels(string_list))"
   ]
  },
  {
   "cell_type": "code",
   "execution_count": null,
   "metadata": {},
   "outputs": [],
   "source": [
    "def names(arr):\n",
    "    vowel_names = []\n",
    "    for name in arr:        \n",
    "        if 'e' in name.lower() or 'a' in name.lower():\n",
    "            vowel_names.append(name)\n",
    "    return vowel_names      \n",
    "names(string_list)\n",
    "            "
   ]
  },
  {
   "cell_type": "code",
   "execution_count": null,
   "metadata": {},
   "outputs": [],
   "source": []
  },
  {
   "cell_type": "markdown",
   "metadata": {},
   "source": [
    "### Exercise 4\n",
    "Create a function that accepts a list as a parameter and returns a dictionary containing the list items as it's keys, and the number of times they appear in the list as the values"
   ]
  },
  {
   "cell_type": "code",
   "execution_count": null,
   "metadata": {},
   "outputs": [],
   "source": [
    "example_list = [\"Harry\", 'Hermione','Harry','Ron','Dobby','Draco','Luna','Harry','Hermione','Ron','Ron','Ron']\n",
    "\n",
    "# output = {\n",
    "#     \"Harry\":3,\n",
    "#     \"Hermione\":2,\n",
    "#     \"Ron\":4,\n",
    "#     \"Dobby\":1,\n",
    "#     \"Draco\":1,\n",
    "#     \"Luna\": 1\n",
    "# }\n",
    "\n"
   ]
  },
  {
   "cell_type": "code",
   "execution_count": null,
   "metadata": {},
   "outputs": [],
   "source": [
    "def dict_function(arr):\n",
    "    new_dict = {}\n",
    "    for name in range(len(arr)):\n",
    "        new_dict[name]= [name]\n",
    "    return new_dict\n",
    "\n",
    "print(dict_function(string_list))"
   ]
  },
  {
   "cell_type": "code",
   "execution_count": null,
   "metadata": {},
   "outputs": [],
   "source": [
    "example_list = [\"Harry\", 'Hermione','Harry','Ron','Dobby','Draco','Luna','Harry','Hermione','Ron','Ron','Ron']\n",
    "def countList(arr):\n",
    "    d = {}\n",
    "    for i in arr:\n",
    "        if i not in d:\n",
    "            d[i] = 1\n",
    "        else:\n",
    "            d[i] += 1\n",
    "    return d\n",
    "\n",
    "for key, value in countList(example_list).items():\n",
    "    print(key, \":\", value)"
   ]
  },
  {
   "cell_type": "code",
   "execution_count": null,
   "metadata": {},
   "outputs": [],
   "source": [
    "def nameDict(nameList):\n",
    "    names = {}\n",
    "    for name in nameList:\n",
    "        names.setdefault(name, 0)\n",
    "        names[name] += 1\n",
    "    return names\n",
    "\n",
    "print(nameDict(example_list))"
   ]
  },
  {
   "cell_type": "code",
   "execution_count": null,
   "metadata": {},
   "outputs": [],
   "source": [
    "my_dict[key] = my_dict.get(key, 0) + 1"
   ]
  },
  {
   "cell_type": "code",
   "execution_count": null,
   "metadata": {},
   "outputs": [],
   "source": []
  },
  {
   "cell_type": "markdown",
   "metadata": {},
   "source": [
    "\n",
    "\n",
    "## Scope <br>\n",
    "<p>Scope refers to the ability to access variables, different types of scope include:<br>a) Global<br>b) Function (local)<br>c) Class (local)</p>"
   ]
  },
  {
   "cell_type": "code",
   "execution_count": null,
   "metadata": {},
   "outputs": [],
   "source": [
    "# placement of variable declaration matters\n",
    "\n",
    "number = 3 #<-- global variable\n",
    "\n",
    "def return_num(num9):\n",
    "    num = num9 #locally scoped function variable\n",
    "    return num\n",
    "print(number)\n",
    "# print(num1)\n",
    "print(return_num(4))\n",
    "print(num9)\n",
    "print(num1)"
   ]
  },
  {
   "cell_type": "code",
   "execution_count": null,
   "metadata": {},
   "outputs": [],
   "source": [
    "def add_nums(a, b):\n",
    "    number1 = a\n",
    "    number2 = b\n",
    "    return a + b\n",
    "\n",
    "def subtract_nums(a, b):\n",
    "    \n",
    "\n",
    "subtract_nums(4)"
   ]
  },
  {
   "cell_type": "markdown",
   "metadata": {},
   "source": [
    "## Modules"
   ]
  },
  {
   "cell_type": "markdown",
   "metadata": {},
   "source": [
    "##### Importing Entire Modules\n"
   ]
  },
  {
   "cell_type": "code",
   "execution_count": null,
   "metadata": {},
   "outputs": [],
   "source": [
    "## Modules\n",
    "\n",
    "import math \n",
    "\n",
    "num = 5\n",
    "num2 = 2\n",
    "num3 = num//num2\n",
    "print(num3)\n",
    "\n",
    "print(math.ceil(5/2))\n",
    "\n",
    "print(math.ceil(math.pi))\n",
    "\n"
   ]
  },
  {
   "cell_type": "markdown",
   "metadata": {},
   "source": [
    "##### Importing Methods Only"
   ]
  },
  {
   "cell_type": "code",
   "execution_count": null,
   "metadata": {},
   "outputs": [],
   "source": [
    "# from xxx import yyy\n",
    "#from math import floor\n",
    "from math import floor, pi, ceil\n",
    "print(pi)\n",
    "print(ceil(pi))\n",
    "print(floor(pi))"
   ]
  },
  {
   "cell_type": "markdown",
   "metadata": {},
   "source": [
    "##### Using the 'as' Keyword"
   ]
  },
  {
   "cell_type": "code",
   "execution_count": null,
   "metadata": {},
   "outputs": [],
   "source": [
    "# from xxx import yyy as z\n",
    "from math import floor as f, pi as p\n",
    "\n",
    "print(f(p))"
   ]
  },
  {
   "cell_type": "markdown",
   "metadata": {},
   "source": [
    "##### Creating a Module"
   ]
  },
  {
   "cell_type": "code",
   "execution_count": null,
   "metadata": {},
   "outputs": [],
   "source": [
    "from module import printName as pn\n",
    "\n",
    "pn('Ryan')"
   ]
  },
  {
   "cell_type": "markdown",
   "metadata": {},
   "source": [
    "# Homework Exercises"
   ]
  },
  {
   "cell_type": "markdown",
   "metadata": {},
   "source": [
    "### 1) Create a Module in VS Code and Import It into jupyter notebook <br>\n",
    "<p><b>Module should have the following capabilities:</b><br><br>\n",
    "1a) Has a function to calculate the square footage of a house <br>\n",
    "    <b>Reminder of Formula: Length X Width == Area</b><br>\n",
    "        <hr>\n",
    "1b) Has a function to calculate the circumference of a circle 2 Pi r <br><br>\n",
    "<b>Program in Jupyter Notebook should take in user input and use imported functions to calculate a circle's circumference or a houses square footage</b>\n",
    "</p>"
   ]
  },
  {
   "cell_type": "code",
   "execution_count": null,
   "metadata": {},
   "outputs": [],
   "source": []
  },
  {
   "cell_type": "markdown",
   "metadata": {},
   "source": [
    "### 2) Build a Shopping Cart Function/Functions <br>\n",
    "<p><b>You can use either lists or dictionaries. The program should have the following capabilities:</b><br><br>\n",
    "1) Takes in input <br>\n",
    "2) Stores user input into a dictionary or list <br>\n",
    "3) The User can add or delete items <br>\n",
    "4) The User can see current shopping list <br>\n",
    "5) The program Loops until user 'quits' <br>\n",
    "6) Upon quiting the program, print out all items in the user's list <br>\n",
    "</p>"
   ]
  },
  {
   "cell_type": "code",
   "execution_count": null,
   "metadata": {},
   "outputs": [],
   "source": []
  }
 ],
 "metadata": {
  "kernelspec": {
   "display_name": "Python 3 (ipykernel)",
   "language": "python",
   "name": "python3"
  },
  "language_info": {
   "codemirror_mode": {
    "name": "ipython",
    "version": 3
   },
   "file_extension": ".py",
   "mimetype": "text/x-python",
   "name": "python",
   "nbconvert_exporter": "python",
   "pygments_lexer": "ipython3",
   "version": "3.12.1"
  }
 },
 "nbformat": 4,
 "nbformat_minor": 4
}
